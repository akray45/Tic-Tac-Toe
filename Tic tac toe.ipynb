{
 "cells": [
  {
   "cell_type": "code",
   "execution_count": null,
   "metadata": {},
   "outputs": [],
   "source": [
    "#Tic toc toe"
   ]
  },
  {
   "cell_type": "code",
   "execution_count": null,
   "metadata": {},
   "outputs": [],
   "source": [
    "#functions\n",
    "def insert(board,pos,character):\n",
    "    board[pos]=character\n",
    "def is_board_full(board):\n",
    "    if board.count(\" \") >0:\n",
    "        return False\n",
    "    else:\n",
    "        return True\n",
    "def is_valid(board,pos):\n",
    "    return board[pos]==\" \"\n",
    "def winning(board,character):\n",
    "    return (board[6]==character and board[7]==character and board[8]==character\n",
    "            or (board[3]==character and board[4]==character and board[5]==character)\n",
    "            or (board[0]==character and board[1]==character and board[2]==character)\n",
    "            or (board[0]==character and board[3]==character and board[6]==character)\n",
    "            or (board[1]==character and board[4]==character and board[7]==character)\n",
    "            or (board[2]==character and board[5]==character and board[8]==character)\n",
    "            or (board[0]==character and board[4]==character and board[8]==character)\n",
    "            or (board[6]==character and board[4]==character and board[2]==character))\n",
    "def print_board(board):\n",
    "    print(\"  |   | \")\n",
    "    print(board[0]+\" | \"+board[1]+\" | \"+board[2])\n",
    "    print(\"---------\")\n",
    "    print(\"  |   | \")\n",
    "    print(board[3]+\" | \"+board[4]+\" | \"+board[5])\n",
    "    print(\"---------\")\n",
    "    print(board[6]+\" | \"+board[7]+\" | \"+board[8])\n",
    "    print(\"  |   | \")\n",
    "    \n",
    "\n",
    "            "
   ]
  },
  {
   "cell_type": "code",
   "execution_count": null,
   "metadata": {},
   "outputs": [],
   "source": [
    "def game():\n",
    "    board=[\" \"for i in range(9)]\n",
    "    print(\"Welcome to tic tac toe game\")\n",
    "    print_board(board)\n",
    "    game_over=False\n",
    "    player_1=\"X\"\n",
    "    player_2=\"O\"\n",
    "    turn =0\n",
    "    while  (is_board_full) or (game_over):\n",
    "        if turn ==0:\n",
    "            player_input=int(input(\"Please Player 1 enter position you want to place X's  0 to 8 inclusive: \"))\n",
    "            if is_valid(board,player_input)==True:\n",
    "                insert(board,player_input,player_1)\n",
    "                print_board(board)\n",
    "                \n",
    "            else:\n",
    "                print(\"invalid input\")\n",
    "                turn+=1\n",
    "                \n",
    "        else:\n",
    "            player_input=int(input(\"Please Player 2 enter position you want to place O's 0 to 8 inclusive: \"))\n",
    "            if is_valid(board,player_input)==True:\n",
    "                insert(board,player_input,player_2)\n",
    "                print_board(board)\n",
    "            else:\n",
    "                print(\"invalid input\")\n",
    "                turn+=1\n",
    "                \n",
    "        if winning(board,player_1)==True:\n",
    "            game_over=True\n",
    "            print(\"Player 1 wins!!!\")\n",
    "            break\n",
    "        \n",
    "        if winning(board,player_2)==True:\n",
    "            game_over=True\n",
    "            print(\"Player 2 wins!!!\")\n",
    "            break\n",
    "        if is_board_full(board):\n",
    "            print(\"Game tied!!\")\n",
    "            break\n",
    "        \n",
    "        turn +=1\n",
    "        turn=turn%2\n",
    "    \n",
    "        \n",
    "    \n",
    "    "
   ]
  },
  {
   "cell_type": "code",
   "execution_count": null,
   "metadata": {},
   "outputs": [],
   "source": [
    "while True:\n",
    "    game()\n",
    "    regame=input(\"If you want to play again press Y else N: \")\n",
    "    if regame==\"Y\":\n",
    "        continue\n",
    "    else:\n",
    "        break\n",
    "    "
   ]
  }
 ],
 "metadata": {
  "kernelspec": {
   "display_name": "Python 3",
   "language": "python",
   "name": "python3"
  },
  "language_info": {
   "codemirror_mode": {
    "name": "ipython",
    "version": 3
   },
   "file_extension": ".py",
   "mimetype": "text/x-python",
   "name": "python",
   "nbconvert_exporter": "python",
   "pygments_lexer": "ipython3",
   "version": "3.7.3"
  },
  "latex_envs": {
   "LaTeX_envs_menu_present": true,
   "autoclose": false,
   "autocomplete": true,
   "bibliofile": "biblio.bib",
   "cite_by": "apalike",
   "current_citInitial": 1,
   "eqLabelWithNumbers": true,
   "eqNumInitial": 1,
   "hotkeys": {
    "equation": "Ctrl-E",
    "itemize": "Ctrl-I"
   },
   "labels_anchors": false,
   "latex_user_defs": false,
   "report_style_numbering": false,
   "user_envs_cfg": false
  }
 },
 "nbformat": 4,
 "nbformat_minor": 4
}
